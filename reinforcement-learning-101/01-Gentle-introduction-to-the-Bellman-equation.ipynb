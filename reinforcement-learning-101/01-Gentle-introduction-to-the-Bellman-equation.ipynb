{
 "cells": [
  {
   "cell_type": "markdown",
   "id": "a827bb35-f8c2-4a12-9c53-77d54993a40e",
   "metadata": {},
   "source": [
    "# Gentle introduction to the Bellman equation\n",
    "\n",
    "<a href=\"https://www.youtube.com/watch?v=ookYeokJPiA\">\n",
    "  <img src=\"https://img.shields.io/badge/youtube-firebrick?style=for-the-badge&logo=youtube&logoColor=white\" alt=\"YouTube Badge\"/>\n",
    "</a>\n",
    "\n",
    "<p style=\"font-size:10px\">This work is licensed under the Creative Commons Attribution-NonCommercial-ShareAlike 4.0 International (CC BY-NC-SA 4.0) license.</p>\n",
    "\n",
    "<p style=\"font-size:10px\">Kamila Zdybał, <a href=\"https://kamilazdybal.github.io/\">Science Docs</a>, 2024</p>\n",
    "\n",
    "***"
   ]
  },
  {
   "cell_type": "code",
   "execution_count": 1,
   "id": "65411efe-8fd2-4596-95c9-10a64b08a851",
   "metadata": {},
   "outputs": [],
   "source": [
    "import numpy as np\n",
    "import matplotlib.pyplot as plt"
   ]
  },
  {
   "cell_type": "code",
   "execution_count": 2,
   "id": "015a25af-d68f-469f-8aaa-18ea9efa6542",
   "metadata": {},
   "outputs": [],
   "source": [
    "def plot_environment(quantity, n_x, n_y, origin='upper', figsize=(4,3), annotate=True, fontsize=20):\n",
    "\n",
    "    plt.figure(figsize=figsize)\n",
    "    plt.imshow(quantity, origin=origin, cmap='coolwarm', vmin=-1, vmax=1)\n",
    "    for axis in ['top', 'bottom', 'left', 'right']:\n",
    "        plt.gca().spines[axis].set_linewidth(2)\n",
    "    plt.gca().set_xticks(np.arange(n_x + 1) - .5, minor=True)\n",
    "    plt.gca().set_yticks(np.arange(n_y + 1) - .5, minor=True)\n",
    "    plt.xticks([i for i in range(0,n_x)])\n",
    "    plt.yticks([i for i in range(0,n_y)])\n",
    "    plt.gca().grid(which=\"minor\", color=\"black\", linewidth=1)\n",
    "    plt.gca().tick_params(which=\"minor\", bottom=False, left=False)\n",
    "    if annotate:\n",
    "        for i in range(n_y):\n",
    "            for j in range(n_x):\n",
    "                text = plt.text(j, i, round(quantity[i, j], 3), fontsize=fontsize, ha=\"center\", va=\"center\", color=\"w\")\n",
    "    \n",
    "    return plt"
   ]
  },
  {
   "cell_type": "markdown",
   "id": "61e633ad-9083-4a02-8b9c-58ef75ca0913",
   "metadata": {},
   "source": [
    "***\n",
    "\n",
    "## Very small environment"
   ]
  },
  {
   "cell_type": "code",
   "execution_count": 3,
   "id": "c232fb51-85f5-4a11-adf8-c270878f7ecc",
   "metadata": {},
   "outputs": [],
   "source": [
    "discount = 0.9\n",
    "n_width = 3\n",
    "n_height = 2\n",
    "n_states = n_width * n_height"
   ]
  },
  {
   "cell_type": "code",
   "execution_count": 4,
   "id": "7957a023-6053-4d57-9e1b-b63611ab93f6",
   "metadata": {},
   "outputs": [],
   "source": [
    "environment = np.zeros((n_height, n_width))"
   ]
  },
  {
   "cell_type": "code",
   "execution_count": 5,
   "id": "39a07d23-0ada-42a1-9a0b-fb2a20240107",
   "metadata": {},
   "outputs": [
    {
     "data": {
      "image/png": "[encoded data removed]",
      "text/plain": [
       "<Figure size 400x300 with 1 Axes>"
      ]
     },
     "metadata": {},
     "output_type": "display_data"
    }
   ],
   "source": [
    "plt = plot_environment(environment, n_width, n_height, annotate=False)\n",
    "plt.savefig('small-RL-environement.pdf', dpi=300, bbox_inches='tight')"
   ]
  },
  {
   "cell_type": "code",
   "execution_count": 6,
   "id": "393afa3f-f6e9-4b3d-b76f-762ee089e772",
   "metadata": {},
   "outputs": [],
   "source": [
    "rewards_field = np.zeros_like(environment)\n",
    "rewards_field[0,2] = 1"
   ]
  },
  {
   "cell_type": "code",
   "execution_count": 7,
   "id": "15008917-1862-4149-8ff6-57f5191b1a68",
   "metadata": {},
   "outputs": [
    {
     "data": {
      "image/png": "[encoded data removed]",
      "text/plain": [
       "<Figure size 400x300 with 1 Axes>"
      ]
     },
     "metadata": {},
     "output_type": "display_data"
    }
   ],
   "source": [
    "plt = plot_environment(rewards_field, n_width, n_height, annotate=True)\n",
    "plt.savefig('small-RL-environement-rewards-field.pdf', dpi=300, bbox_inches='tight')"
   ]
  },
  {
   "cell_type": "code",
   "execution_count": 8,
   "id": "02d70bcf-4b33-4410-a13e-07364b0b6814",
   "metadata": {},
   "outputs": [],
   "source": [
    "A = np.eye(n_states,n_states)\n",
    "A[0,1] = -discount\n",
    "A[1,2] = -discount\n",
    "A[3,0] = -discount\n",
    "A[4,1] = -discount\n",
    "A[5,4] = -discount"
   ]
  },
  {
   "cell_type": "code",
   "execution_count": 9,
   "id": "713194e4-c88a-450f-ae73-990a69921133",
   "metadata": {},
   "outputs": [
    {
     "data": {
      "text/plain": [
       "array([[ 1. , -0.9,  0. ,  0. ,  0. ,  0. ],\n",
       "       [ 0. ,  1. , -0.9,  0. ,  0. ,  0. ],\n",
       "       [ 0. ,  0. ,  1. ,  0. ,  0. ,  0. ],\n",
       "       [-0.9,  0. ,  0. ,  1. ,  0. ,  0. ],\n",
       "       [ 0. , -0.9,  0. ,  0. ,  1. ,  0. ],\n",
       "       [ 0. ,  0. ,  0. ,  0. , -0.9,  1. ]])"
      ]
     },
     "execution_count": 9,
     "metadata": {},
     "output_type": "execute_result"
    }
   ],
   "source": [
    "A"
   ]
  },
  {
   "cell_type": "code",
   "execution_count": 10,
   "id": "ef8b2d09-83e8-46a1-b323-4b2f69d6330e",
   "metadata": {},
   "outputs": [],
   "source": [
    "b = np.array([0,0,1,0,0,0])"
   ]
  },
  {
   "cell_type": "code",
   "execution_count": 11,
   "id": "ef4e65cf-bfdd-4594-9f88-6d57382c837b",
   "metadata": {},
   "outputs": [
    {
     "data": {
      "text/plain": [
       "array([0, 0, 1, 0, 0, 0])"
      ]
     },
     "execution_count": 11,
     "metadata": {},
     "output_type": "execute_result"
    }
   ],
   "source": [
    "b"
   ]
  },
  {
   "cell_type": "code",
   "execution_count": 12,
   "id": "539e5a52-f2d3-4eea-8898-77daae86d375",
   "metadata": {},
   "outputs": [],
   "source": [
    "value_function = np.linalg.solve(A, b)\n",
    "value_function = np.reshape(value_function, (n_height, n_width))"
   ]
  },
  {
   "cell_type": "code",
   "execution_count": 13,
   "id": "b8f04311-0eab-4bbf-b2ad-5927f5300f74",
   "metadata": {},
   "outputs": [
    {
     "data": {
      "image/png": "[encoded data removed]",
      "text/plain": [
       "<Figure size 400x300 with 1 Axes>"
      ]
     },
     "metadata": {},
     "output_type": "display_data"
    }
   ],
   "source": [
    "plt = plot_environment(value_function, n_width, n_height)\n",
    "plt.savefig('small-RL-environement-with-value-function.pdf', dpi=300, bbox_inches='tight')"
   ]
  },
  {
   "cell_type": "markdown",
   "id": "9c1472a3-e0a6-498e-84f5-67465d096f95",
   "metadata": {},
   "source": [
    "***"
   ]
  }
 ],
 "metadata": {
  "kernelspec": {
   "display_name": "Python 3 (ipykernel)",
   "language": "python",
   "name": "python3"
  },
  "language_info": {
   "codemirror_mode": {
    "name": "ipython",
    "version": 3
   },
   "file_extension": ".py",
   "mimetype": "text/x-python",
   "name": "python",
   "nbconvert_exporter": "python",
   "pygments_lexer": "ipython3",
   "version": "3.10.13"
  }
 },
 "nbformat": 4,
 "nbformat_minor": 5
}
